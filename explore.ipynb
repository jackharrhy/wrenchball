{
 "cells": [
  {
   "cell_type": "code",
   "execution_count": null,
   "id": "37fdae97",
   "metadata": {},
   "outputs": [],
   "source": [
    "import pandas as pd\n",
    "from pathlib import Path"
   ]
  },
  {
   "cell_type": "code",
   "execution_count": null,
   "id": "2de96172",
   "metadata": {},
   "outputs": [],
   "source": [
    "s3_xlsx_path = Path(\"data/sheets/lil sLUg crew S3.xlsx\")"
   ]
  },
  {
   "cell_type": "code",
   "execution_count": null,
   "id": "7273e06c",
   "metadata": {},
   "outputs": [],
   "source": [
    "s3_df = pd.read_excel(s3_xlsx_path, sheet_name=\"Character List\")\n",
    "\n",
    "s3_df.head()"
   ]
  },
  {
   "cell_type": "code",
   "execution_count": null,
   "id": "4b61cb28",
   "metadata": {},
   "outputs": [],
   "source": [
    "characters = s3_df[\"Character\"].dropna().unique().tolist()\n",
    "\n",
    "characters"
   ]
  }
 ],
 "metadata": {
  "kernelspec": {
   "display_name": ".venv",
   "language": "python",
   "name": "python3"
  },
  "language_info": {
   "codemirror_mode": {
    "name": "ipython",
    "version": 3
   },
   "file_extension": ".py",
   "mimetype": "text/x-python",
   "name": "python",
   "nbconvert_exporter": "python",
   "pygments_lexer": "ipython3",
   "version": "3.12.8"
  }
 },
 "nbformat": 4,
 "nbformat_minor": 5
}
