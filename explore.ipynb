{
 "cells": [
  {
   "cell_type": "code",
   "execution_count": null,
   "id": "37fdae97",
   "metadata": {},
   "outputs": [],
   "source": [
    "from dataclasses import dataclass\n",
    "import pandas as pd\n",
    "from pathlib import Path"
   ]
  },
  {
   "cell_type": "code",
   "execution_count": null,
   "id": "f7ee34d2",
   "metadata": {},
   "outputs": [],
   "source": [
    "pg_conn_string = \"dbname=wrenchball user=postgres password=postgres host=localhost port=5932\""
   ]
  },
  {
   "cell_type": "code",
   "execution_count": null,
   "id": "a4aceab0",
   "metadata": {},
   "outputs": [],
   "source": [
    "@dataclass\n",
    "class User():\n",
    "    name: str\n",
    "    initial: str\n",
    "    discord_snowflake: str\n",
    "    role: str"
   ]
  },
  {
   "cell_type": "code",
   "execution_count": null,
   "id": "f10b3d72",
   "metadata": {},
   "outputs": [],
   "source": [
    "users = [\n",
    "    User(name=\"Andrew\", initial=\"AL\", discord_snowflake=\"194910567188791297\", role=\"admin\"),\n",
    "    User(name=\"Jack\", initial=\"JH\", discord_snowflake=\"178958252820791296\", role=\"admin\"),\n",
    "    User(name=\"Michael\", initial=\"MC\", discord_snowflake=\"171102907079327745\", role=\"admin\"),\n",
    "    User(name=\"Matthew\", initial=\"MR\", discord_snowflake=\"687449838945828925\", role=\"user\"),\n",
    "    User(name=\"ADwy\", initial=\"AD\", discord_snowflake=\"200403036252798976\", role=\"user\"),\n",
    "    User(name=\"NDA\", initial=\"NDA\", discord_snowflake=\"89554070678827008\", role=\"user\"),\n",
    "    User(name=\"Evan\", initial=\"EO\", discord_snowflake=\"478366445995032596\", role=\"user\"),\n",
    "    User(name=\"Luke\", initial=\"LB\", discord_snowflake=\"158029629683269632\", role=\"user\"),\n",
    "    User(name=\"Noran\", initial=\"AN\", discord_snowflake=\"262332170041819146\", role=\"user\"),\n",
    "    User(name=\"Adam\", initial=\"AW\", discord_snowflake=\"606620386225946624\", role=\"user\"),\n",
    "]"
   ]
  },
  {
   "cell_type": "code",
   "execution_count": null,
   "id": "53f62878",
   "metadata": {},
   "outputs": [],
   "source": [
    "import psycopg\n",
    "\n",
    "with psycopg.connect(pg_conn_string) as conn:\n",
    "    with conn.cursor() as cur:\n",
    "        for user in users:\n",
    "            cur.execute(\n",
    "                \"\"\"\n",
    "                INSERT INTO \"user\" (name, role, discord_snowflake)\n",
    "                VALUES (%s, %s, %s)\n",
    "                \"\"\",\n",
    "                (user.name, user.role, user.discord_snowflake)\n",
    "            )\n",
    "\n",
    "    conn.commit()"
   ]
  },
  {
   "cell_type": "code",
   "execution_count": null,
   "id": "1a2e9122",
   "metadata": {},
   "outputs": [],
   "source": [
    "with psycopg.connect(pg_conn_string) as conn:\n",
    "    with conn.cursor() as cur:\n",
    "        for user in users:\n",
    "            # Fetch user id from the database using discord_snowflake\n",
    "            cur.execute(\n",
    "                \"\"\"\n",
    "                SELECT id FROM \"user\" WHERE discord_snowflake = %s\n",
    "                \"\"\",\n",
    "                (user.discord_snowflake,)\n",
    "            )\n",
    "            result = cur.fetchone()\n",
    "            if result is not None:\n",
    "                user_id = result[0]\n",
    "                team_name = f\"{user.name}'s Team\"\n",
    "                abbreviation = user.initial\n",
    "                cur.execute(\n",
    "                    \"\"\"\n",
    "                    INSERT INTO team (name, user_id, abbreviation)\n",
    "                    VALUES (%s, %s, %s)\n",
    "                    \"\"\",\n",
    "                    (team_name, user_id, abbreviation)\n",
    "                )\n",
    "            else:\n",
    "                raise ValueError(f\"User {user.name} not found in database\")\n",
    "    conn.commit()"
   ]
  },
  {
   "cell_type": "code",
   "execution_count": null,
   "id": "2de96172",
   "metadata": {},
   "outputs": [],
   "source": [
    "s3_xlsx_path = Path(\"data/sheets/lil sLUg crew S3.xlsx\")"
   ]
  },
  {
   "cell_type": "code",
   "execution_count": null,
   "id": "7273e06c",
   "metadata": {},
   "outputs": [],
   "source": [
    "s3_df = pd.read_excel(s3_xlsx_path, sheet_name=\"Character List\")\n",
    "\n",
    "s3_df.head()"
   ]
  },
  {
   "cell_type": "code",
   "execution_count": null,
   "id": "4b61cb28",
   "metadata": {},
   "outputs": [],
   "source": [
    "players = [c for c in s3_df[\"Character\"].dropna().unique().tolist() if c != 'Empty']\n",
    "\n",
    "players"
   ]
  },
  {
   "cell_type": "code",
   "execution_count": null,
   "id": "86df0b31",
   "metadata": {},
   "outputs": [],
   "source": [
    "# https://docs.google.com/spreadsheets/d/13uVzRaigr4i-QRZAhp4DcbDuhxhJvwxZigWds_Y8CR4/edit?gid=66049872#gid=66049872\n",
    "\n"
   ]
  }
 ],
 "metadata": {
  "kernelspec": {
   "display_name": ".venv",
   "language": "python",
   "name": "python3"
  },
  "language_info": {
   "codemirror_mode": {
    "name": "ipython",
    "version": 3
   },
   "file_extension": ".py",
   "mimetype": "text/x-python",
   "name": "python",
   "nbconvert_exporter": "python",
   "pygments_lexer": "ipython3",
   "version": "3.12.8"
  }
 },
 "nbformat": 4,
 "nbformat_minor": 5
}
